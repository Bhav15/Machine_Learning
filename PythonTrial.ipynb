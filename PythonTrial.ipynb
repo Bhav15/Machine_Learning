{
  "nbformat": 4,
  "nbformat_minor": 0,
  "metadata": {
    "colab": {
      "name": "PythonTrial.ipynb",
      "provenance": [],
      "authorship_tag": "ABX9TyNx0kBkVs2i1yH9kVSExX0D",
      "include_colab_link": true
    },
    "kernelspec": {
      "name": "python3",
      "display_name": "Python 3"
    }
  },
  "cells": [
    {
      "cell_type": "markdown",
      "metadata": {
        "id": "view-in-github",
        "colab_type": "text"
      },
      "source": [
        "<a href=\"https://colab.research.google.com/github/Bhav15/Machine_Learning/blob/master/PythonTrial.ipynb\" target=\"_parent\"><img src=\"https://colab.research.google.com/assets/colab-badge.svg\" alt=\"Open In Colab\"/></a>"
      ]
    },
    {
      "cell_type": "code",
      "metadata": {
        "id": "w2ll-0qed2qP",
        "colab_type": "code",
        "colab": {}
      },
      "source": [
        "student_name=[]"
      ],
      "execution_count": 1,
      "outputs": []
    },
    {
      "cell_type": "code",
      "metadata": {
        "id": "JcJlAFE_fbTz",
        "colab_type": "code",
        "colab": {
          "base_uri": "https://localhost:8080/",
          "height": 901
        },
        "outputId": "75f9422e-81f8-4b15-d0f7-d990c792e705"
      },
      "source": [
        "while True:\n",
        "    print(\"\"\"Select a option from the below menu:\n",
        "1. Inserting one name\n",
        "2. Inserting multiple names\n",
        "3. Updating an existing name\n",
        "4. Deleting a name\n",
        "5. View all names\n",
        "6. Quit the program\"\"\")\n",
        "    ch=int(input(\"Enter your choice:\"))\n",
        "    if ch==1:\n",
        "    #pass means nothing\n",
        "        #pass\n",
        "        student_name.append(input(\"Enter student name: \"))\n",
        "    elif ch==2:\n",
        "        names = input(\"Enter multiple names comma seperated:\")\n",
        "        names = names.strip()  #removes spaces before name\n",
        "        if not names == \"\" or not names is None or not names == \" \":\n",
        "            student_name.extend(names.split(\",\"))\n",
        "    elif ch==3:\n",
        "        ch1 = int(input(\"How would you like to input data\\n 1. Name\\n 2. Number\\n\"))\n",
        "        if ch1==1:\n",
        "            name= input(\"Enter the name you want to modify\")\n",
        "            if name in student_name:\n",
        "                student_name[student_name.index(name)]=input(\"Enter modified name\")\n",
        "            else:\n",
        "                print(\"This name is not available\")\n",
        "        else:\n",
        "            for i in range(len(student_name)):\n",
        "                print(\"{}. {}\".format(i+1, student_name[i]))\n",
        "            #input number\n",
        "            idx = int(input(\"The number of the name you want to change:\"))\n",
        "            if idx <= len(student_name):\n",
        "                student_name[idx-1] = input(\"Enter modified name:\")\n",
        "            else:\n",
        "                  print(\"Invalid Input\") \n",
        "                \n",
        "    elif ch==4:\n",
        "        ch2 = int(input(\"How would you like to input data\\n 1. Name\\n 2. Number\\n\"))\n",
        "        if ch2==1:\n",
        "            name=input(\"Enter the name you want to delete\")\n",
        "            if name in student_name:\n",
        "                student_name==student_name.remove(name)\n",
        "            else:\n",
        "                print(\"This name is not available\")\n",
        "        else:\n",
        "            for i in range(len(student_name)):\n",
        "                print(\"{}. {}\".format(i+1, student_name[i]))\n",
        "            idx = int(input(\"The number of the name you want to delete:\"))\n",
        "            if idx <= len(student_name):\n",
        "                student_name[idx-1] == student_name.pop(idx-1)\n",
        "            else:\n",
        "                print(\"Invalid Input\")\n",
        "    elif ch==5:\n",
        "        for name in student_name:\n",
        "            print(name)\n",
        "    elif ch==6:\n",
        "        print(\"\"\"Thank you for using our program!\"\"\")\n",
        "        break\n",
        "    else:\n",
        "        print(\"You have entered a wrong choice. Please try again\")"
      ],
      "execution_count": 3,
      "outputs": [
        {
          "output_type": "stream",
          "text": [
            "Select a option from the below menu:\n",
            "1. Inserting one name\n",
            "2. Inserting multiple names\n",
            "3. Updating an existing name\n",
            "4. Deleting a name\n",
            "5. View all names\n",
            "6. Quit the program\n",
            "Enter your choice:1\n",
            "Enter student name: Raj\n",
            "Select a option from the below menu:\n",
            "1. Inserting one name\n",
            "2. Inserting multiple names\n",
            "3. Updating an existing name\n",
            "4. Deleting a name\n",
            "5. View all names\n",
            "6. Quit the program\n",
            "Enter your choice:2\n",
            "Enter multiple names comma seperated:Rohit,priya\n",
            "Select a option from the below menu:\n",
            "1. Inserting one name\n",
            "2. Inserting multiple names\n",
            "3. Updating an existing name\n",
            "4. Deleting a name\n",
            "5. View all names\n",
            "6. Quit the program\n",
            "Enter your choice:3\n",
            "How would you like to input data\n",
            " 1. Name\n",
            " 2. Number\n",
            "1\n",
            "Enter the name you want to modifypriya\n",
            "Enter modified namePriya\n",
            "Select a option from the below menu:\n",
            "1. Inserting one name\n",
            "2. Inserting multiple names\n",
            "3. Updating an existing name\n",
            "4. Deleting a name\n",
            "5. View all names\n",
            "6. Quit the program\n",
            "Enter your choice:5\n",
            "Raj\n",
            "Rohit\n",
            "Priya\n",
            "Select a option from the below menu:\n",
            "1. Inserting one name\n",
            "2. Inserting multiple names\n",
            "3. Updating an existing name\n",
            "4. Deleting a name\n",
            "5. View all names\n",
            "6. Quit the program\n",
            "Enter your choice:6\n",
            "Thank you for using our program!\n"
          ],
          "name": "stdout"
        }
      ]
    },
    {
      "cell_type": "code",
      "metadata": {
        "id": "9zS502sbfjO4",
        "colab_type": "code",
        "colab": {}
      },
      "source": [
        ""
      ],
      "execution_count": null,
      "outputs": []
    }
  ]
}